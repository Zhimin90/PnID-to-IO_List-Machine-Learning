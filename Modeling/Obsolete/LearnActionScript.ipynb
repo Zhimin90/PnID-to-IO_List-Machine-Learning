{
 "cells": [
  {
   "cell_type": "code",
   "execution_count": 10,
   "metadata": {},
   "outputs": [],
   "source": [
    "import numpy as np\n",
    "import pandas as pd\n",
    "import pickle"
   ]
  },
  {
   "cell_type": "code",
   "execution_count": 11,
   "metadata": {},
   "outputs": [],
   "source": [
    "labeled_tags = pd.read_csv(\"Labeled.csv\")\n",
    "file = open(\"temp_model.pickle\",'rb')\n",
    "df = pickle.load(file)\n",
    "file.close()\n",
    "lats = []\n",
    "lons = []\n",
    "\n",
    "for row in df['RLocation']:\n",
    "    if type(row) != str:\n",
    "        lat,lon = (None,None)\n",
    "    else:\n",
    "        lat,lon = tuple(str(row).split(','))\n",
    "        lat = int(lat)\n",
    "        lon = int(lon)\n",
    "    lats.append(lat)\n",
    "    lons.append(lon)\n",
    "df[\"Lat\"] = lats\n",
    "df[\"Long\"] = lons \n",
    "\n",
    "df_located = df[['RLocation','Lat','Long']][df['RLocation'].notna()]\n",
    "X = np.array(df_located)\n",
    "X = X[:,1:3]"
   ]
  },
  {
   "cell_type": "code",
   "execution_count": 12,
   "metadata": {},
   "outputs": [],
   "source": [
    "from sklearn.cluster import DBSCAN\n",
    "from sklearn import metrics\n",
    "from sklearn.preprocessing import StandardScaler"
   ]
  },
  {
   "cell_type": "code",
   "execution_count": 13,
   "metadata": {},
   "outputs": [
    {
     "data": {
      "text/plain": [
       "KNeighborsClassifier(algorithm='auto', leaf_size=30, metric='jaccard',\n",
       "                     metric_params=None, n_jobs=None, n_neighbors=3, p=2,\n",
       "                     weights='uniform')"
      ]
     },
     "execution_count": 13,
     "metadata": {},
     "output_type": "execute_result"
    }
   ],
   "source": [
    "X = StandardScaler().fit_transform(X)\n",
    "db = DBSCAN(eps=0.1, min_samples=2).fit(X)\n",
    "core_samples_mask = np.zeros_like(db.labels_, dtype=bool)\n",
    "core_samples_mask[db.core_sample_indices_] = True\n",
    "labels = db.labels_\n",
    "\n",
    "n_clusters_ = len(set(labels)) - (1 if -1 in labels else 0)\n",
    "n_noise_ = list(labels).count(-1)\n",
    "\n",
    "df_located[\"unit_label\"] = db.labels_\n",
    "df[\"unit_label\"] = None\n",
    "df.iloc[df_located.index, -1] = db.labels_\n",
    "\n",
    "groupby_unit_label_Lat = df[df['Lat'].notnull()].groupby('unit_label').mean()[['Lat','Long']]\n",
    "groupby_unit_label_Lat = groupby_unit_label_Lat.rename(columns={'Lat':'Lat_mean','Long':'Long_mean'})\n",
    "df = df.merge(groupby_unit_label_Lat, how = 'left', right_index = True, left_on = 'unit_label')\n",
    "df[['Area No','Unit No','Sequence Number']] = df[['Area No','Unit No','Sequence Number']].applymap(str)\n",
    "df_encoded = pd.get_dummies(df[['DWG Number', 'Area No','Unit No']], prefix=['DWG Number', 'Area No','Unit No'])\n",
    "normalized_df = df_encoded\n",
    "train_index = normalized_df[df[\"RLocation\"].notna()].dropna().index\n",
    "\n",
    "X = np.array(normalized_df[df[\"RLocation\"].notna()].dropna())\n",
    "y = np.array(pd.get_dummies(df.iloc[train_index,:][\"unit_label\"]))\n",
    "\n",
    "from sklearn.neighbors import KNeighborsClassifier\n",
    "model_knn= KNeighborsClassifier(n_neighbors=3, metric='jaccard')\n",
    "model_knn.fit(X,y)\n"
   ]
  },
  {
   "cell_type": "code",
   "execution_count": 14,
   "metadata": {},
   "outputs": [
    {
     "name": "stderr",
     "output_type": "stream",
     "text": [
      "C:\\Users\\Zhimin90\\Anaconda3\\lib\\site-packages\\pandas\\core\\frame.py:3494: SettingWithCopyWarning: \n",
      "A value is trying to be set on a copy of a slice from a DataFrame.\n",
      "Try using .loc[row_indexer,col_indexer] = value instead\n",
      "\n",
      "See the caveats in the documentation: http://pandas.pydata.org/pandas-docs/stable/user_guide/indexing.html#returning-a-view-versus-a-copy\n",
      "  self[k1] = value[k2]\n"
     ]
    }
   ],
   "source": [
    "test_index = normalized_df[df[\"RLocation\"].isna()].dropna().index\n",
    "X_test = np.array(normalized_df.iloc[test_index,:])\n",
    "y_pred = model_knn.predict(X_test)\n",
    "\n",
    "y_pred_arr = []\n",
    "No_Out_list = []\n",
    "for j, row in enumerate(y_pred):\n",
    "    for i,v in enumerate(row):\n",
    "        if v: y_pred_arr = np.append(y_pred_arr,i)\n",
    "    if sum(row) == 0: \n",
    "        print(\"nothing at j: \" + str(j))\n",
    "        No_Out_list = np.append(No_Out_list,j)\n",
    "        y_pred_arr = np.append(y_pred_arr, None)\n",
    "\n",
    "df['pre_unit_label'] = None\n",
    "df['pre_unit_label'] = pd.Series(y_pred_arr,index=test_index)\n",
    "groupby_unit_label_Lat = groupby_unit_label_Lat.rename(columns={'Lat_mean':'pre_Lat_mean','Long_mean':'pre_Long_mean'})\n",
    "df = df.merge(groupby_unit_label_Lat, how = 'left', right_index = True, left_on = 'pre_unit_label')\n",
    "check_result_df = df[['DWG Number', 'Tag', 'Signal Type 1', 'Lat',\n",
    "       'Long', 'unit_label', 'Lat_mean', 'Long_mean', 'pre_unit_label', 'pre_Lat_mean', 'pre_Long_mean']]\n",
    "combined_location_df = check_result_df[['Lat_mean', 'Long_mean',\n",
    "       'pre_Lat_mean', 'pre_Long_mean']].apply(\n",
    "    lambda x: ','.join(x.dropna().astype(str)),\n",
    "    axis=1)\n",
    "combined_location_df = combined_location_df.str.split(',',expand=True)\n",
    "check_result_df[['cL_Lat', 'cL_Long']] = combined_location_df\n",
    "plot_df = check_result_df[['Tag','cL_Lat','cL_Long']]\n",
    "plot_df = plot_df[['cL_Lat', 'cL_Long']].apply(pd.to_numeric)\n",
    "plot_bygroup_df = plot_df.groupby(['cL_Lat', 'cL_Long']).size().reset_index(name='count')\n",
    "nonNAN_index = plot_df[['cL_Lat', 'cL_Long']].dropna().index\n",
    "X = np.array(plot_df.iloc[nonNAN_index,:][['cL_Lat', 'cL_Long']] )\n"
   ]
  },
  {
   "cell_type": "code",
   "execution_count": 15,
   "metadata": {},
   "outputs": [],
   "source": [
    "from dbscan import MyDBSCAN\n",
    "from sklearn.preprocessing import StandardScaler"
   ]
  },
  {
   "cell_type": "code",
   "execution_count": 16,
   "metadata": {},
   "outputs": [
    {
     "name": "stdout",
     "output_type": "stream",
     "text": [
      "{}\n",
      "Growing Cluster\n",
      "Completed\n",
      "{1: 96}\n",
      "Growing Cluster\n",
      "Completed\n",
      "{1: 96, 2: 18}\n",
      "Growing Cluster\n",
      "Completed\n",
      "{1: 96, 2: 35}\n",
      "Growing Cluster\n",
      "Completed\n",
      "{1: 96, 2: 52}\n",
      "Growing Cluster\n",
      "Completed\n",
      "{1: 96, 2: 74}\n",
      "Growing Cluster\n",
      "{1: 96, 2: 101}\n",
      "Growing Cluster\n",
      "Completed\n",
      "{1: 96, 2: 101, 3: 65}\n",
      "Growing Cluster\n",
      "{1: 96, 2: 101, 3: 101}\n",
      "Growing Cluster\n",
      "Completed\n"
     ]
    }
   ],
   "source": [
    "X_normalized = StandardScaler().fit_transform(X)\n",
    "my_labels = np.array(MyDBSCAN(X_normalized, eps=.2, MinPts=20, MaxPts = 100))\n",
    "core_samples_mask = np.zeros_like(my_labels, dtype=bool)\n",
    "core_samples_mask[np.array(range(0,len(my_labels)))] = True\n",
    "labels = my_labels\n",
    "clusterDict = {}\n",
    "for label in labels:\n",
    "    if label in clusterDict.keys():\n",
    "        clusterDict[label] += 1\n",
    "    else:\n",
    "        clusterDict[label] = 1\n",
    "dbscan_labeled = check_result_df.iloc[nonNAN_index,:]\n",
    "dbscan_labeled[\"Gateway_Label\"] = my_labels\n"
   ]
  },
  {
   "cell_type": "code",
   "execution_count": 17,
   "metadata": {},
   "outputs": [
    {
     "name": "stderr",
     "output_type": "stream",
     "text": [
      "C:\\Users\\Zhimin90\\Anaconda3\\lib\\site-packages\\ipykernel_launcher.py:2: SettingWithCopyWarning: \n",
      "A value is trying to be set on a copy of a slice from a DataFrame.\n",
      "Try using .loc[row_indexer,col_indexer] = value instead\n",
      "\n",
      "See the caveats in the documentation: http://pandas.pydata.org/pandas-docs/stable/user_guide/indexing.html#returning-a-view-versus-a-copy\n",
      "  \n"
     ]
    }
   ],
   "source": [
    "export_df = df[['DWG Number','Tag','Description','Signal Type 1']]\n",
    "export_df['ASIGateway_label'] = dbscan_labeled['Gateway_Label']"
   ]
  },
  {
   "cell_type": "code",
   "execution_count": 18,
   "metadata": {},
   "outputs": [
    {
     "data": {
      "text/html": [
       "<div>\n",
       "<style scoped>\n",
       "    .dataframe tbody tr th:only-of-type {\n",
       "        vertical-align: middle;\n",
       "    }\n",
       "\n",
       "    .dataframe tbody tr th {\n",
       "        vertical-align: top;\n",
       "    }\n",
       "\n",
       "    .dataframe thead th {\n",
       "        text-align: right;\n",
       "    }\n",
       "</style>\n",
       "<table border=\"1\" class=\"dataframe\">\n",
       "  <thead>\n",
       "    <tr style=\"text-align: right;\">\n",
       "      <th></th>\n",
       "      <th>DWG Number</th>\n",
       "      <th>Tag</th>\n",
       "      <th>Description</th>\n",
       "      <th>Signal Type 1</th>\n",
       "      <th>ASIGateway_label</th>\n",
       "    </tr>\n",
       "  </thead>\n",
       "  <tbody>\n",
       "    <tr>\n",
       "      <td>0</td>\n",
       "      <td>PID-143</td>\n",
       "      <td>20-ZSC-7753.</td>\n",
       "      <td>Closed Detection</td>\n",
       "      <td>DIASI</td>\n",
       "      <td>1</td>\n",
       "    </tr>\n",
       "    <tr>\n",
       "      <td>1</td>\n",
       "      <td>PID-143</td>\n",
       "      <td>20-XY-4101C</td>\n",
       "      <td>3-Way Solenoid Valve</td>\n",
       "      <td>DOASI</td>\n",
       "      <td>1</td>\n",
       "    </tr>\n",
       "    <tr>\n",
       "      <td>2</td>\n",
       "      <td>PID-143</td>\n",
       "      <td>20-ZSC-4101A</td>\n",
       "      <td>Closed Detection</td>\n",
       "      <td>DIASI</td>\n",
       "      <td>1</td>\n",
       "    </tr>\n",
       "    <tr>\n",
       "      <td>3</td>\n",
       "      <td>PID-143</td>\n",
       "      <td>20-ZIS-4102K</td>\n",
       "      <td>Pig Sensor</td>\n",
       "      <td>DIASI</td>\n",
       "      <td>1</td>\n",
       "    </tr>\n",
       "    <tr>\n",
       "      <td>4</td>\n",
       "      <td>PID-143</td>\n",
       "      <td>20-XY-4101E</td>\n",
       "      <td>3-Way Solenoid Valve</td>\n",
       "      <td>DOASI</td>\n",
       "      <td>1</td>\n",
       "    </tr>\n",
       "    <tr>\n",
       "      <td>...</td>\n",
       "      <td>...</td>\n",
       "      <td>...</td>\n",
       "      <td>...</td>\n",
       "      <td>...</td>\n",
       "      <td>...</td>\n",
       "    </tr>\n",
       "    <tr>\n",
       "      <td>347</td>\n",
       "      <td>PID-142</td>\n",
       "      <td>20-ZSC-4103G</td>\n",
       "      <td>Closed Detection</td>\n",
       "      <td>DIASI</td>\n",
       "      <td>1</td>\n",
       "    </tr>\n",
       "    <tr>\n",
       "      <td>348</td>\n",
       "      <td>PID-142</td>\n",
       "      <td>20-ZIS-4105K</td>\n",
       "      <td>Pig Sensor</td>\n",
       "      <td>DIASI</td>\n",
       "      <td>1</td>\n",
       "    </tr>\n",
       "    <tr>\n",
       "      <td>349</td>\n",
       "      <td>PID-142</td>\n",
       "      <td>20-ZSC/O-4104E</td>\n",
       "      <td>Closed and Open Detection</td>\n",
       "      <td>DIASI</td>\n",
       "      <td>1</td>\n",
       "    </tr>\n",
       "    <tr>\n",
       "      <td>350</td>\n",
       "      <td>PID-142</td>\n",
       "      <td>20-ZIS-4103J</td>\n",
       "      <td>Pig Sensor</td>\n",
       "      <td>DIASI</td>\n",
       "      <td>1</td>\n",
       "    </tr>\n",
       "    <tr>\n",
       "      <td>351</td>\n",
       "      <td>PID-142</td>\n",
       "      <td>20-ZSC-4105A</td>\n",
       "      <td>Closed Detection</td>\n",
       "      <td>DIASI</td>\n",
       "      <td>1</td>\n",
       "    </tr>\n",
       "  </tbody>\n",
       "</table>\n",
       "<p>352 rows × 5 columns</p>\n",
       "</div>"
      ],
      "text/plain": [
       "    DWG Number             Tag                Description Signal Type 1  \\\n",
       "0      PID-143    20-ZSC-7753.           Closed Detection         DIASI   \n",
       "1      PID-143     20-XY-4101C       3-Way Solenoid Valve         DOASI   \n",
       "2      PID-143    20-ZSC-4101A           Closed Detection         DIASI   \n",
       "3      PID-143    20-ZIS-4102K                 Pig Sensor         DIASI   \n",
       "4      PID-143     20-XY-4101E       3-Way Solenoid Valve         DOASI   \n",
       "..         ...             ...                        ...           ...   \n",
       "347    PID-142    20-ZSC-4103G           Closed Detection         DIASI   \n",
       "348    PID-142    20-ZIS-4105K                 Pig Sensor         DIASI   \n",
       "349    PID-142  20-ZSC/O-4104E  Closed and Open Detection         DIASI   \n",
       "350    PID-142    20-ZIS-4103J                 Pig Sensor         DIASI   \n",
       "351    PID-142    20-ZSC-4105A           Closed Detection         DIASI   \n",
       "\n",
       "     ASIGateway_label  \n",
       "0                   1  \n",
       "1                   1  \n",
       "2                   1  \n",
       "3                   1  \n",
       "4                   1  \n",
       "..                ...  \n",
       "347                 1  \n",
       "348                 1  \n",
       "349                 1  \n",
       "350                 1  \n",
       "351                 1  \n",
       "\n",
       "[352 rows x 5 columns]"
      ]
     },
     "execution_count": 18,
     "metadata": {},
     "output_type": "execute_result"
    }
   ],
   "source": [
    "export_df"
   ]
  },
  {
   "cell_type": "code",
   "execution_count": 19,
   "metadata": {},
   "outputs": [],
   "source": [
    "file = open(\"temp_model.pickle\",'rb')\n",
    "df = pickle.load(file)\n",
    "df['ASIGateway_label'] = dbscan_labeled['Gateway_Label']\n",
    "\n",
    "with open('learnedmodel.pickle', 'wb') as f:\n",
    "    pickle.dump(df, f)"
   ]
  }
 ],
 "metadata": {
  "kernelspec": {
   "display_name": "Python 3",
   "language": "python",
   "name": "python3"
  },
  "language_info": {
   "codemirror_mode": {
    "name": "ipython",
    "version": 3
   },
   "file_extension": ".py",
   "mimetype": "text/x-python",
   "name": "python",
   "nbconvert_exporter": "python",
   "pygments_lexer": "ipython3",
   "version": "3.7.4"
  }
 },
 "nbformat": 4,
 "nbformat_minor": 2
}
